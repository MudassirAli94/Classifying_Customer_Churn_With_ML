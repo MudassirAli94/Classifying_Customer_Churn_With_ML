{
 "cells": [
  {
   "cell_type": "code",
   "execution_count": 1,
   "metadata": {
    "scrolled": true
   },
   "outputs": [
    {
     "data": {
      "text/html": [
       "<div>\n",
       "<style scoped>\n",
       "    .dataframe tbody tr th:only-of-type {\n",
       "        vertical-align: middle;\n",
       "    }\n",
       "\n",
       "    .dataframe tbody tr th {\n",
       "        vertical-align: top;\n",
       "    }\n",
       "\n",
       "    .dataframe thead th {\n",
       "        text-align: right;\n",
       "    }\n",
       "</style>\n",
       "<table border=\"1\" class=\"dataframe\">\n",
       "  <thead>\n",
       "    <tr style=\"text-align: right;\">\n",
       "      <th></th>\n",
       "      <th>gender</th>\n",
       "      <th>SeniorCitizen</th>\n",
       "      <th>Partner</th>\n",
       "      <th>Dependents</th>\n",
       "      <th>tenure</th>\n",
       "      <th>PhoneService</th>\n",
       "      <th>MultipleLines</th>\n",
       "      <th>InternetService</th>\n",
       "      <th>OnlineSecurity</th>\n",
       "      <th>OnlineBackup</th>\n",
       "      <th>DeviceProtection</th>\n",
       "      <th>TechSupport</th>\n",
       "      <th>StreamingTV</th>\n",
       "      <th>StreamingMovies</th>\n",
       "      <th>Contract</th>\n",
       "      <th>PaperlessBilling</th>\n",
       "      <th>PaymentMethod</th>\n",
       "      <th>MonthlyCharges</th>\n",
       "      <th>TotalCharges</th>\n",
       "      <th>Churn</th>\n",
       "    </tr>\n",
       "    <tr>\n",
       "      <th>customerID</th>\n",
       "      <th></th>\n",
       "      <th></th>\n",
       "      <th></th>\n",
       "      <th></th>\n",
       "      <th></th>\n",
       "      <th></th>\n",
       "      <th></th>\n",
       "      <th></th>\n",
       "      <th></th>\n",
       "      <th></th>\n",
       "      <th></th>\n",
       "      <th></th>\n",
       "      <th></th>\n",
       "      <th></th>\n",
       "      <th></th>\n",
       "      <th></th>\n",
       "      <th></th>\n",
       "      <th></th>\n",
       "      <th></th>\n",
       "      <th></th>\n",
       "    </tr>\n",
       "  </thead>\n",
       "  <tbody>\n",
       "    <tr>\n",
       "      <th>7590-VHVEG</th>\n",
       "      <td>Female</td>\n",
       "      <td>0</td>\n",
       "      <td>Yes</td>\n",
       "      <td>No</td>\n",
       "      <td>1</td>\n",
       "      <td>No</td>\n",
       "      <td>No phone service</td>\n",
       "      <td>DSL</td>\n",
       "      <td>No</td>\n",
       "      <td>Yes</td>\n",
       "      <td>No</td>\n",
       "      <td>No</td>\n",
       "      <td>No</td>\n",
       "      <td>No</td>\n",
       "      <td>Month-to-month</td>\n",
       "      <td>Yes</td>\n",
       "      <td>Electronic check</td>\n",
       "      <td>29.85</td>\n",
       "      <td>29.85</td>\n",
       "      <td>No</td>\n",
       "    </tr>\n",
       "    <tr>\n",
       "      <th>5575-GNVDE</th>\n",
       "      <td>Male</td>\n",
       "      <td>0</td>\n",
       "      <td>No</td>\n",
       "      <td>No</td>\n",
       "      <td>34</td>\n",
       "      <td>Yes</td>\n",
       "      <td>No</td>\n",
       "      <td>DSL</td>\n",
       "      <td>Yes</td>\n",
       "      <td>No</td>\n",
       "      <td>Yes</td>\n",
       "      <td>No</td>\n",
       "      <td>No</td>\n",
       "      <td>No</td>\n",
       "      <td>One year</td>\n",
       "      <td>No</td>\n",
       "      <td>Mailed check</td>\n",
       "      <td>56.95</td>\n",
       "      <td>1889.5</td>\n",
       "      <td>No</td>\n",
       "    </tr>\n",
       "    <tr>\n",
       "      <th>3668-QPYBK</th>\n",
       "      <td>Male</td>\n",
       "      <td>0</td>\n",
       "      <td>No</td>\n",
       "      <td>No</td>\n",
       "      <td>2</td>\n",
       "      <td>Yes</td>\n",
       "      <td>No</td>\n",
       "      <td>DSL</td>\n",
       "      <td>Yes</td>\n",
       "      <td>Yes</td>\n",
       "      <td>No</td>\n",
       "      <td>No</td>\n",
       "      <td>No</td>\n",
       "      <td>No</td>\n",
       "      <td>Month-to-month</td>\n",
       "      <td>Yes</td>\n",
       "      <td>Mailed check</td>\n",
       "      <td>53.85</td>\n",
       "      <td>108.15</td>\n",
       "      <td>Yes</td>\n",
       "    </tr>\n",
       "    <tr>\n",
       "      <th>7795-CFOCW</th>\n",
       "      <td>Male</td>\n",
       "      <td>0</td>\n",
       "      <td>No</td>\n",
       "      <td>No</td>\n",
       "      <td>45</td>\n",
       "      <td>No</td>\n",
       "      <td>No phone service</td>\n",
       "      <td>DSL</td>\n",
       "      <td>Yes</td>\n",
       "      <td>No</td>\n",
       "      <td>Yes</td>\n",
       "      <td>Yes</td>\n",
       "      <td>No</td>\n",
       "      <td>No</td>\n",
       "      <td>One year</td>\n",
       "      <td>No</td>\n",
       "      <td>Bank transfer (automatic)</td>\n",
       "      <td>42.30</td>\n",
       "      <td>1840.75</td>\n",
       "      <td>No</td>\n",
       "    </tr>\n",
       "    <tr>\n",
       "      <th>9237-HQITU</th>\n",
       "      <td>Female</td>\n",
       "      <td>0</td>\n",
       "      <td>No</td>\n",
       "      <td>No</td>\n",
       "      <td>2</td>\n",
       "      <td>Yes</td>\n",
       "      <td>No</td>\n",
       "      <td>Fiber optic</td>\n",
       "      <td>No</td>\n",
       "      <td>No</td>\n",
       "      <td>No</td>\n",
       "      <td>No</td>\n",
       "      <td>No</td>\n",
       "      <td>No</td>\n",
       "      <td>Month-to-month</td>\n",
       "      <td>Yes</td>\n",
       "      <td>Electronic check</td>\n",
       "      <td>70.70</td>\n",
       "      <td>151.65</td>\n",
       "      <td>Yes</td>\n",
       "    </tr>\n",
       "  </tbody>\n",
       "</table>\n",
       "</div>"
      ],
      "text/plain": [
       "            gender  SeniorCitizen Partner Dependents  tenure PhoneService  \\\n",
       "customerID                                                                  \n",
       "7590-VHVEG  Female              0     Yes         No       1           No   \n",
       "5575-GNVDE    Male              0      No         No      34          Yes   \n",
       "3668-QPYBK    Male              0      No         No       2          Yes   \n",
       "7795-CFOCW    Male              0      No         No      45           No   \n",
       "9237-HQITU  Female              0      No         No       2          Yes   \n",
       "\n",
       "               MultipleLines InternetService OnlineSecurity OnlineBackup  \\\n",
       "customerID                                                                 \n",
       "7590-VHVEG  No phone service             DSL             No          Yes   \n",
       "5575-GNVDE                No             DSL            Yes           No   \n",
       "3668-QPYBK                No             DSL            Yes          Yes   \n",
       "7795-CFOCW  No phone service             DSL            Yes           No   \n",
       "9237-HQITU                No     Fiber optic             No           No   \n",
       "\n",
       "           DeviceProtection TechSupport StreamingTV StreamingMovies  \\\n",
       "customerID                                                            \n",
       "7590-VHVEG               No          No          No              No   \n",
       "5575-GNVDE              Yes          No          No              No   \n",
       "3668-QPYBK               No          No          No              No   \n",
       "7795-CFOCW              Yes         Yes          No              No   \n",
       "9237-HQITU               No          No          No              No   \n",
       "\n",
       "                  Contract PaperlessBilling              PaymentMethod  \\\n",
       "customerID                                                               \n",
       "7590-VHVEG  Month-to-month              Yes           Electronic check   \n",
       "5575-GNVDE        One year               No               Mailed check   \n",
       "3668-QPYBK  Month-to-month              Yes               Mailed check   \n",
       "7795-CFOCW        One year               No  Bank transfer (automatic)   \n",
       "9237-HQITU  Month-to-month              Yes           Electronic check   \n",
       "\n",
       "            MonthlyCharges TotalCharges Churn  \n",
       "customerID                                     \n",
       "7590-VHVEG           29.85        29.85    No  \n",
       "5575-GNVDE           56.95       1889.5    No  \n",
       "3668-QPYBK           53.85       108.15   Yes  \n",
       "7795-CFOCW           42.30      1840.75    No  \n",
       "9237-HQITU           70.70       151.65   Yes  "
      ]
     },
     "execution_count": 1,
     "metadata": {},
     "output_type": "execute_result"
    }
   ],
   "source": [
    "import pandas as pd\n",
    "\n",
    "customer = pd.read_csv(\"customer.csv\" , index_col = 0)\n",
    "\n",
    "customer.head()"
   ]
  },
  {
   "cell_type": "code",
   "execution_count": 2,
   "metadata": {},
   "outputs": [],
   "source": [
    "customer.replace((\"Male\" , \"Female\") , (0,1) , inplace = True)\n",
    "customer.replace((\"No\" , \"Yes\") , (0,1) , inplace = True)\n",
    "customer.replace((\"No internet service\") , (2) , inplace = True)\n",
    "customer.InternetService.replace((\"Fiber optic\" , \"DSL\") , (1,2) , inplace = True)\n",
    "customer.Contract.replace((\"Month-to-month\" , \"One year\" , \"Two year\") , (0,1,2) , inplace = True)\n",
    "customer.MultipleLines.replace((\"No phone service\") , (2) , inplace = True)\n",
    "customer.PaymentMethod.replace((\"Electronic check\" , \"Mailed check\" , \"Bank transfer (automatic)\" , \"Credit card (automatic)\") , (0,1,2,3) , inplace = True)"
   ]
  },
  {
   "cell_type": "raw",
   "metadata": {},
   "source": [
    "We are replacing the all the words into category values (0,1,2.. etc.)"
   ]
  },
  {
   "cell_type": "code",
   "execution_count": 3,
   "metadata": {},
   "outputs": [],
   "source": [
    "customer.TotalCharges.replace((\" \") , (999999) , inplace = True)"
   ]
  },
  {
   "cell_type": "code",
   "execution_count": 4,
   "metadata": {},
   "outputs": [],
   "source": [
    "for n in range(0,customer.shape[0]):\n",
    "    float(customer.TotalCharges[n])"
   ]
  },
  {
   "cell_type": "code",
   "execution_count": 5,
   "metadata": {},
   "outputs": [],
   "source": [
    "customer[customer.columns[0:17]] = customer[customer.columns[0:17]].astype(\"category\")\n",
    "customer.Churn = customer.Churn.astype(\"category\")\n",
    "customer.tenure = customer.tenure.astype(\"int64\")"
   ]
  },
  {
   "cell_type": "code",
   "execution_count": 6,
   "metadata": {},
   "outputs": [],
   "source": [
    "X_test = customer[customer.TotalCharges == 999999].drop(\"TotalCharges\" , axis = 1)\n",
    "X_train = customer[customer.TotalCharges != 999999].drop(\"TotalCharges\" , axis = 1)\n",
    "y_test = customer.TotalCharges[customer.TotalCharges == 999999]\n",
    "y_train = customer.TotalCharges[customer.TotalCharges != 999999]"
   ]
  },
  {
   "cell_type": "code",
   "execution_count": 7,
   "metadata": {},
   "outputs": [],
   "source": [
    "import numpy as np\n",
    "from sklearn import linear_model\n",
    "\n",
    "reg = linear_model.LinearRegression()\n",
    "reg.fit(X_train, y_train)\n",
    "y_pred = reg.predict(X_test)"
   ]
  },
  {
   "cell_type": "code",
   "execution_count": 8,
   "metadata": {},
   "outputs": [
    {
     "name": "stdout",
     "output_type": "stream",
     "text": [
      "[ 125.09751178 1313.3762252  1191.63880862 1030.13449831  532.38841478\n",
      " 1318.61135367 1048.40541877 1332.44274211 1233.77006028  851.07913539\n",
      "  363.36226404]\n"
     ]
    }
   ],
   "source": [
    "print(abs(y_pred))"
   ]
  },
  {
   "cell_type": "code",
   "execution_count": 9,
   "metadata": {},
   "outputs": [
    {
     "name": "stdout",
     "output_type": "stream",
     "text": [
      "[ 125.09751178 1313.3762252  1191.63880862 1030.13449831  532.38841478\n",
      " 1318.61135367 1048.40541877 1332.44274211 1233.77006028  851.07913539\n",
      "  363.36226404]\n"
     ]
    }
   ],
   "source": [
    "abc = abs(y_pred)\n",
    "#abc = range(1,11)\n",
    "print(abc)"
   ]
  },
  {
   "cell_type": "code",
   "execution_count": 10,
   "metadata": {},
   "outputs": [
    {
     "name": "stderr",
     "output_type": "stream",
     "text": [
      "C:\\Users\\Ali\\Anaconda3\\lib\\site-packages\\ipykernel_launcher.py:1: SettingWithCopyWarning: \n",
      "A value is trying to be set on a copy of a slice from a DataFrame\n",
      "\n",
      "See the caveats in the documentation: http://pandas.pydata.org/pandas-docs/stable/indexing.html#indexing-view-versus-copy\n",
      "  \"\"\"Entry point for launching an IPython kernel.\n"
     ]
    }
   ],
   "source": [
    "customer.TotalCharges[customer.TotalCharges == 999999] = abc"
   ]
  },
  {
   "cell_type": "code",
   "execution_count": 11,
   "metadata": {},
   "outputs": [],
   "source": [
    "customer.TotalCharges = customer.TotalCharges.astype(\"float\")"
   ]
  },
  {
   "cell_type": "raw",
   "metadata": {},
   "source": [
    "There are missing values in the total charges column so we replaced the missing values with 999999 to be distinct and easy to look for in the column. After we performed linear regression to predict the total charges for the missing values."
   ]
  },
  {
   "cell_type": "code",
   "execution_count": 12,
   "metadata": {},
   "outputs": [
    {
     "name": "stdout",
     "output_type": "stream",
     "text": [
      "<class 'pandas.core.frame.DataFrame'>\n",
      "Index: 7043 entries, 7590-VHVEG to 3186-AJIEK\n",
      "Data columns (total 20 columns):\n",
      "gender              7043 non-null category\n",
      "SeniorCitizen       7043 non-null category\n",
      "Partner             7043 non-null category\n",
      "Dependents          7043 non-null category\n",
      "tenure              7043 non-null int64\n",
      "PhoneService        7043 non-null category\n",
      "MultipleLines       7043 non-null category\n",
      "InternetService     7043 non-null category\n",
      "OnlineSecurity      7043 non-null category\n",
      "OnlineBackup        7043 non-null category\n",
      "DeviceProtection    7043 non-null category\n",
      "TechSupport         7043 non-null category\n",
      "StreamingTV         7043 non-null category\n",
      "StreamingMovies     7043 non-null category\n",
      "Contract            7043 non-null category\n",
      "PaperlessBilling    7043 non-null category\n",
      "PaymentMethod       7043 non-null category\n",
      "MonthlyCharges      7043 non-null float64\n",
      "TotalCharges        7043 non-null float64\n",
      "Churn               7043 non-null category\n",
      "dtypes: category(17), float64(2), int64(1)\n",
      "memory usage: 658.8+ KB\n"
     ]
    }
   ],
   "source": [
    "customer.info()"
   ]
  },
  {
   "cell_type": "code",
   "execution_count": 13,
   "metadata": {},
   "outputs": [],
   "source": [
    "import numpy as np"
   ]
  },
  {
   "cell_type": "code",
   "execution_count": 14,
   "metadata": {},
   "outputs": [],
   "source": [
    "#customer[customer.columns[0:6]] how to take columns in R"
   ]
  },
  {
   "cell_type": "code",
   "execution_count": 15,
   "metadata": {},
   "outputs": [
    {
     "name": "stdout",
     "output_type": "stream",
     "text": [
      "<class 'pandas.core.frame.DataFrame'>\n",
      "Index: 7043 entries, 7590-VHVEG to 3186-AJIEK\n",
      "Data columns (total 20 columns):\n",
      "gender              7043 non-null category\n",
      "SeniorCitizen       7043 non-null category\n",
      "Partner             7043 non-null category\n",
      "Dependents          7043 non-null category\n",
      "tenure              7043 non-null int64\n",
      "PhoneService        7043 non-null category\n",
      "MultipleLines       7043 non-null category\n",
      "InternetService     7043 non-null category\n",
      "OnlineSecurity      7043 non-null category\n",
      "OnlineBackup        7043 non-null category\n",
      "DeviceProtection    7043 non-null category\n",
      "TechSupport         7043 non-null category\n",
      "StreamingTV         7043 non-null category\n",
      "StreamingMovies     7043 non-null category\n",
      "Contract            7043 non-null category\n",
      "PaperlessBilling    7043 non-null category\n",
      "PaymentMethod       7043 non-null category\n",
      "MonthlyCharges      7043 non-null float64\n",
      "TotalCharges        7043 non-null float64\n",
      "Churn               7043 non-null category\n",
      "dtypes: category(17), float64(2), int64(1)\n",
      "memory usage: 658.8+ KB\n"
     ]
    }
   ],
   "source": [
    "customer.info()"
   ]
  },
  {
   "cell_type": "code",
   "execution_count": 16,
   "metadata": {},
   "outputs": [
    {
     "data": {
      "text/plain": [
       "array([1.35297124e+09])"
      ]
     },
     "execution_count": 16,
     "metadata": {},
     "output_type": "execute_result"
    }
   ],
   "source": [
    "import numpy as np\n",
    "\n",
    "x = customer.MonthlyCharges.values\n",
    "y = customer.TotalCharges.values\n",
    "\n",
    "np.correlate(x , y)"
   ]
  },
  {
   "cell_type": "raw",
   "metadata": {},
   "source": [
    "We can find the correlation between the monthly charges and total charges, obviously it should be positive"
   ]
  },
  {
   "cell_type": "code",
   "execution_count": 17,
   "metadata": {},
   "outputs": [],
   "source": [
    "customer = customer.drop(\"MonthlyCharges\" , axis = 1)"
   ]
  },
  {
   "cell_type": "code",
   "execution_count": 18,
   "metadata": {},
   "outputs": [],
   "source": [
    "import matplotlib.pyplot as plt"
   ]
  },
  {
   "cell_type": "code",
   "execution_count": 19,
   "metadata": {},
   "outputs": [
    {
     "data": {
      "text/plain": [
       "1    6361\n",
       "0     682\n",
       "Name: PhoneService, dtype: int64"
      ]
     },
     "execution_count": 19,
     "metadata": {},
     "output_type": "execute_result"
    }
   ],
   "source": [
    "customer.PhoneService.value_counts()"
   ]
  },
  {
   "cell_type": "code",
   "execution_count": 20,
   "metadata": {
    "scrolled": true
   },
   "outputs": [
    {
     "name": "stdout",
     "output_type": "stream",
     "text": [
      "<class 'pandas.core.frame.DataFrame'>\n",
      "Index: 7043 entries, 7590-VHVEG to 3186-AJIEK\n",
      "Data columns (total 19 columns):\n",
      "gender              7043 non-null category\n",
      "SeniorCitizen       7043 non-null category\n",
      "Partner             7043 non-null category\n",
      "Dependents          7043 non-null category\n",
      "tenure              7043 non-null int64\n",
      "PhoneService        7043 non-null category\n",
      "MultipleLines       7043 non-null category\n",
      "InternetService     7043 non-null category\n",
      "OnlineSecurity      7043 non-null category\n",
      "OnlineBackup        7043 non-null category\n",
      "DeviceProtection    7043 non-null category\n",
      "TechSupport         7043 non-null category\n",
      "StreamingTV         7043 non-null category\n",
      "StreamingMovies     7043 non-null category\n",
      "Contract            7043 non-null category\n",
      "PaperlessBilling    7043 non-null category\n",
      "PaymentMethod       7043 non-null category\n",
      "TotalCharges        7043 non-null float64\n",
      "Churn               7043 non-null category\n",
      "dtypes: category(17), float64(1), int64(1)\n",
      "memory usage: 603.8+ KB\n"
     ]
    }
   ],
   "source": [
    "customer.info() "
   ]
  },
  {
   "cell_type": "code",
   "execution_count": 21,
   "metadata": {},
   "outputs": [],
   "source": [
    "z = [5,7,8,9,10,11,12,13]"
   ]
  },
  {
   "cell_type": "code",
   "execution_count": 22,
   "metadata": {},
   "outputs": [
    {
     "data": {
      "text/plain": [
       "0    3390\n",
       "1    2971\n",
       "2     682\n",
       "Name: MultipleLines, dtype: int64"
      ]
     },
     "execution_count": 22,
     "metadata": {},
     "output_type": "execute_result"
    }
   ],
   "source": [
    "customer.MultipleLines.value_counts()"
   ]
  },
  {
   "cell_type": "code",
   "execution_count": 23,
   "metadata": {},
   "outputs": [],
   "source": [
    "#this will work but it will take a lot of time\n",
    "\n",
    "#plt.subplot(2,1,1)\n",
    "\n",
    "#plt.bar(customer.PhoneService[customer.PhoneService ==1 ] ,  len(customer.PhoneService[customer.PhoneService ==1]) , align = 'center')\n",
    "#plt.bar(customer.PhoneService[customer.PhoneService ==0 ] ,  len(customer.PhoneService[customer.PhoneService ==0]) , align = 'center')\n",
    "\n",
    "#plt.title(\"Phone Service\") \n",
    "\n",
    "#plt.subplot(2,1,2)\n",
    "#plt.bar(customer.MultipleLines[customer.MultipleLines ==2] , len(customer.MultipleLines[customer.MultipleLines == 2]))\n",
    "#plt.bar(customer.MultipleLines[customer.MultipleLines ==1] , len(customer.MultipleLines[customer.MultipleLines == 1]))\n",
    "#plt.bar(customer.MultipleLines[customer.MultipleLines ==0] , len(customer.MultipleLines[customer.MultipleLines == 0]))\n",
    "#plt.title(\"Multiple Lines\")\n",
    "\n",
    "#plt.show()\n",
    "\n"
   ]
  },
  {
   "cell_type": "code",
   "execution_count": 24,
   "metadata": {},
   "outputs": [],
   "source": [
    "def function(x,p):\n",
    "    a = customer[customer.columns[x]].value_counts()\n",
    "    \n",
    "    b = []\n",
    "    \n",
    "    for n in range(0,len(a)):\n",
    "        b.append(a.index[n])\n",
    "    \n",
    "    c = p\n",
    "    plt.subplot(2,4,8)\n",
    "    plt.bar(b,a)\n",
    "    plt.xticks(b,c)\n",
    "    plt.title(customer.columns[x])\n",
    "    plt.show()"
   ]
  },
  {
   "cell_type": "code",
   "execution_count": 25,
   "metadata": {},
   "outputs": [
    {
     "data": {
      "image/png": "[encoded data removed]",
      "text/plain": [
       "<Figure size 432x288 with 1 Axes>"
      ]
     },
     "metadata": {},
     "output_type": "display_data"
    },
    {
     "data": {
      "image/png": "[encoded data removed]",
      "text/plain": [
       "<Figure size 432x288 with 1 Axes>"
      ]
     },
     "metadata": {},
     "output_type": "display_data"
    },
    {
     "data": {
      "image/png": "[encoded data removed]",
      "text/plain": [
       "<Figure size 432x288 with 1 Axes>"
      ]
     },
     "metadata": {},
     "output_type": "display_data"
    },
    {
     "data": {
      "image/png": "[encoded data removed]",
      "text/plain": [
       "<Figure size 432x288 with 1 Axes>"
      ]
     },
     "metadata": {},
     "output_type": "display_data"
    },
    {
     "data": {
      "image/png": "[encoded data removed]",
      "text/plain": [
       "<Figure size 432x288 with 1 Axes>"
      ]
     },
     "metadata": {},
     "output_type": "display_data"
    },
    {
     "data": {
      "image/png": "[encoded data removed]",
      "text/plain": [
       "<Figure size 432x288 with 1 Axes>"
      ]
     },
     "metadata": {},
     "output_type": "display_data"
    },
    {
     "data": {
      "image/png": "[encoded data removed]",
      "text/plain": [
       "<Figure size 432x288 with 1 Axes>"
      ]
     },
     "metadata": {},
     "output_type": "display_data"
    },
    {
     "data": {
      "image/png": "[encoded data removed]",
      "text/plain": [
       "<Figure size 432x288 with 1 Axes>"
      ]
     },
     "metadata": {},
     "output_type": "display_data"
    }
   ],
   "source": [
    "p = [\"No\" , \"Yes\"]\n",
    "z = [5,7,8,9,10,11,12,13]\n",
    "for n in z:\n",
    "    function(n , p)"
   ]
  },
  {
   "cell_type": "raw",
   "metadata": {},
   "source": [
    "We can graph all the category values to give ourselves a visual on the frequency of each choice\n",
    "I need to fix up the third value for the graphs"
   ]
  },
  {
   "cell_type": "raw",
   "metadata": {},
   "source": [
    "Prediction for Churn , we can now finally do our machine learning to predict if the customers will continue the service (0) or terminate their service (1)"
   ]
  },
  {
   "cell_type": "raw",
   "metadata": {},
   "source": [
    "Logistic Regression"
   ]
  },
  {
   "cell_type": "code",
   "execution_count": 29,
   "metadata": {},
   "outputs": [
    {
     "name": "stdout",
     "output_type": "stream",
     "text": [
      "[[1840  237]\n",
      " [ 323  418]]\n",
      "             precision    recall  f1-score   support\n",
      "\n",
      "          0       0.85      0.89      0.87      2077\n",
      "          1       0.64      0.56      0.60       741\n",
      "\n",
      "avg / total       0.79      0.80      0.80      2818\n",
      "\n",
      "0.801277501774308\n"
     ]
    }
   ],
   "source": [
    "from sklearn.linear_model import LogisticRegression\n",
    "from sklearn.model_selection import train_test_split\n",
    "from sklearn.metrics import confusion_matrix\n",
    "from sklearn.metrics import classification_report\n",
    "from sklearn.metrics import accuracy_score\n",
    "\n",
    "X_customer = customer.drop(\"Churn\" , axis = 1)\n",
    "y_customer = customer.Churn\n",
    "\n",
    "logreg = LogisticRegression()\n",
    "\n",
    "X_train , X_test, y_train , y_test = train_test_split(X_customer, y_customer, test_size = 0.4 , random_state = 1234)\n",
    "\n",
    "\n",
    "logreg.fit(X_train , y_train)\n",
    "y_pred = logreg.predict(X_test)\n",
    "\n",
    "print(confusion_matrix(y_test,y_pred))\n",
    "print(classification_report(y_test , y_pred))\n",
    "print(accuracy_score(y_test , y_pred))"
   ]
  },
  {
   "cell_type": "raw",
   "metadata": {},
   "source": [
    "KNN"
   ]
  },
  {
   "cell_type": "code",
   "execution_count": 30,
   "metadata": {},
   "outputs": [
    {
     "name": "stdout",
     "output_type": "stream",
     "text": [
      "{'n_neighbors': 8}\n",
      "0.762603550295858\n",
      "accuracy: 0.7494677075940384\n"
     ]
    }
   ],
   "source": [
    "from sklearn.model_selection import GridSearchCV\n",
    "from sklearn.neighbors import KNeighborsClassifier\n",
    "\n",
    "param_grid = {'n_neighbors' : np.arange(1,50)}\n",
    "\n",
    "knn_cv = KNeighborsClassifier()\n",
    "\n",
    "knn_cv = GridSearchCV(knn_cv, param_grid, cv = 5)\n",
    "\n",
    "knn_cv.fit(X_train , y_train)\n",
    "\n",
    "print(knn_cv.best_params_)\n",
    "\n",
    "print(knn_cv.best_score_)\n",
    "\n",
    "y_pred = knn_cv.predict(X_test)\n",
    "\n",
    "print(\"accuracy:\" , accuracy_score(y_test , y_pred))"
   ]
  },
  {
   "cell_type": "raw",
   "metadata": {},
   "source": [
    "Decision Tree + Random Search CV"
   ]
  },
  {
   "cell_type": "code",
   "execution_count": 31,
   "metadata": {
    "scrolled": false
   },
   "outputs": [
    {
     "name": "stdout",
     "output_type": "stream",
     "text": [
      "Fitting 5 folds for each of 10 candidates, totalling 50 fits\n",
      "{'min_samples_leaf': 6, 'max_features': 4, 'max_depth': None, 'criterion': 'gini'}\n",
      "0.781301775147929\n",
      "accuracy: 0.7494677075940384\n"
     ]
    },
    {
     "name": "stderr",
     "output_type": "stream",
     "text": [
      "[Parallel(n_jobs=1)]: Done  50 out of  50 | elapsed:    0.7s finished\n"
     ]
    }
   ],
   "source": [
    "from sklearn.tree import DecisionTreeClassifier\n",
    "from sklearn.model_selection import RandomizedSearchCV\n",
    "from scipy.stats import randint\n",
    "\n",
    "param_dist = {'max_depth' : [3,None],\n",
    "             'max_features' : np.arange(1,9),\n",
    "             'min_samples_leaf':np.arange(1,9),\n",
    "             \"criterion\" :[\"gini\" , \"entropy\"]}\n",
    "\n",
    "tree = DecisionTreeClassifier()\n",
    "tree_cv = RandomizedSearchCV(tree , param_dist , cv = 5 , verbose = 1)\n",
    "\n",
    "tree_cv.fit(X_train , y_train)\n",
    "print(tree_cv.best_params_)\n",
    "print(tree_cv.best_score_)\n",
    "print(\"accuracy:\", accuracy_score(y_test , y_pred))"
   ]
  },
  {
   "cell_type": "code",
   "execution_count": 32,
   "metadata": {},
   "outputs": [
    {
     "name": "stdout",
     "output_type": "stream",
     "text": [
      "0.7885024840312278\n"
     ]
    }
   ],
   "source": [
    "dt = DecisionTreeClassifier(max_depth=4, random_state=123)\n",
    "\n",
    "# Fit the classifier to the training set\n",
    "dt.fit(X_train, y_train)\n",
    "\n",
    "# Predict the labels of the test set\n",
    "y_pred = dt.predict(X_test)\n",
    "\n",
    "# Compute the accuracy of the predictions: accuracy\n",
    "accuracy = float(np.sum(y_pred==y_test))/y_test.shape[0]\n",
    "print(accuracy)"
   ]
  },
  {
   "cell_type": "raw",
   "metadata": {},
   "source": [
    "SVC"
   ]
  },
  {
   "cell_type": "code",
   "execution_count": 33,
   "metadata": {},
   "outputs": [
    {
     "name": "stdout",
     "output_type": "stream",
     "text": [
      "             precision    recall  f1-score   support\n",
      "\n",
      "          0       0.79      0.94      0.86      2077\n",
      "          1       0.62      0.29      0.40       741\n",
      "\n",
      "avg / total       0.74      0.77      0.74      2818\n",
      "\n",
      "accuracy: 0.7675656493967353\n"
     ]
    }
   ],
   "source": [
    "from sklearn.svm import SVC\n",
    "\n",
    "clf = SVC()\n",
    "\n",
    "clf.fit(X_train , y_train)\n",
    "\n",
    "y_pred = clf.predict(X_test)\n",
    "\n",
    "print(classification_report(y_test , y_pred))\n",
    "print('accuracy:' , accuracy_score(y_test , y_pred))"
   ]
  },
  {
   "cell_type": "raw",
   "metadata": {},
   "source": [
    "Keras"
   ]
  },
  {
   "cell_type": "code",
   "execution_count": 34,
   "metadata": {},
   "outputs": [
    {
     "name": "stderr",
     "output_type": "stream",
     "text": [
      "C:\\Users\\Ali\\Anaconda3\\lib\\site-packages\\h5py\\__init__.py:36: FutureWarning: Conversion of the second argument of issubdtype from `float` to `np.floating` is deprecated. In future, it will be treated as `np.float64 == np.dtype(float).type`.\n",
      "  from ._conv import register_converters as _register_converters\n",
      "Using TensorFlow backend.\n"
     ]
    },
    {
     "name": "stdout",
     "output_type": "stream",
     "text": [
      "Epoch 1/1\n",
      "7043/7043 [==============================] - 5s 721us/step - loss: 0.5849 - acc: 0.7346\n"
     ]
    },
    {
     "data": {
      "text/plain": [
       "<keras.callbacks.History at 0x27130004da0>"
      ]
     },
     "execution_count": 34,
     "metadata": {},
     "output_type": "execute_result"
    }
   ],
   "source": [
    "from keras.layers import Dense\n",
    "from keras.models import Sequential\n",
    "\n",
    "predictors_customer = customer.drop([\"Churn\"] , axis = 1).values\n",
    "target_customer = customer.Churn.values\n",
    "n_cols = predictors_customer.shape[1]\n",
    "\n",
    "model_data = Sequential()\n",
    "model_data.add(Dense(100 , activation = 'relu' , input_shape = (n_cols,)))\n",
    "for n in range (1,100):\n",
    "    model_data.add(Dense(n,activation = 'relu'))\n",
    "model_data.add(Dense(2, activation = 'softmax'))\n",
    "\n",
    "model_data.compile(optimizer = 'adam' , loss = 'sparse_categorical_crossentropy' , \n",
    "                  metrics = ['accuracy'])\n",
    "model_data.fit(predictors_customer , target_customer)"
   ]
  },
  {
   "cell_type": "raw",
   "metadata": {},
   "source": [
    "XGBoost"
   ]
  },
  {
   "cell_type": "code",
   "execution_count": 35,
   "metadata": {},
   "outputs": [],
   "source": [
    "customer_1  = customer[customer.columns[0:19]].astype(\"int\")"
   ]
  },
  {
   "cell_type": "code",
   "execution_count": 36,
   "metadata": {},
   "outputs": [],
   "source": [
    "X_customer_1 = customer_1.drop(\"Churn\" , axis = 1)\n",
    "y_customer_1 = customer_1.Churn\n",
    "\n",
    "\n",
    "X_train , X_test, y_train , y_test = train_test_split(X_customer_1, y_customer_1, test_size = 0.4 , random_state = 1234)"
   ]
  },
  {
   "cell_type": "code",
   "execution_count": 37,
   "metadata": {},
   "outputs": [
    {
     "name": "stdout",
     "output_type": "stream",
     "text": [
      "0.7899219304471257\n"
     ]
    },
    {
     "name": "stderr",
     "output_type": "stream",
     "text": [
      "C:\\Users\\Ali\\Anaconda3\\lib\\site-packages\\sklearn\\preprocessing\\label.py:151: DeprecationWarning: The truth value of an empty array is ambiguous. Returning False, but in future this will result in an error. Use `array.size > 0` to check that an array is not empty.\n",
      "  if diff:\n"
     ]
    }
   ],
   "source": [
    "import xgboost as xgb\n",
    "xg = xgb.XGBClassifier(objective='reg:logistic', n_estimators = 10, seed=1234)\n",
    "xg.fit(X_train, y_train)\n",
    "\n",
    "y_pred = xg.predict(X_test)\n",
    "\n",
    "accuracy =  accuracy_score(y_test, y_pred)\n",
    "print(accuracy)"
   ]
  },
  {
   "cell_type": "code",
   "execution_count": 38,
   "metadata": {},
   "outputs": [
    {
     "name": "stdout",
     "output_type": "stream",
     "text": [
      "   train-mlogloss-mean  train-mlogloss-std  test-mlogloss-mean  \\\n",
      "0             1.056073            0.000159            1.056838   \n",
      "1             1.016920            0.000119            1.018254   \n",
      "2             0.981066            0.000108            0.983025   \n",
      "3             0.947754            0.000193            0.950354   \n",
      "4             0.916907            0.000360            0.919924   \n",
      "\n",
      "   test-mlogloss-std  \n",
      "0           0.000068  \n",
      "1           0.000100  \n",
      "2           0.000347  \n",
      "3           0.000499  \n",
      "4           0.000663  \n",
      "Accuracy: 98.56788666666665\n"
     ]
    }
   ],
   "source": [
    "churn_dmatrix = xgb.DMatrix(data = X_customer_1, label = y_customer_1)\n",
    "\n",
    "# Create the parameter dictionary: params\n",
    "# Xgboost parameters\n",
    "params = {'learning_rate': 0.05, \n",
    "              'max_depth': 4,\n",
    "              'subsample': 0.9,        \n",
    "              'colsample_bytree': 0.9,\n",
    "              'objective': 'multi:softprob',\n",
    "              'num_class': 3,\n",
    "              'silent': 1, \n",
    "              'n_estimators':100, \n",
    "              'gamma':1,         \n",
    "              'min_child_weight':4} \n",
    "\n",
    "#params = {\"objective\":\"reg:logistic\", \"max_depth\":3}\n",
    "#params = {\"objective\":\"multi:softprob\", \"max_depth\":3, 'num_class': 3, 'eta': 0.3, 'silent': True}#, 'num_round' : 20}\n",
    "\n",
    "# Perform cross-validation: cv_results\n",
    "cv_results = xgb.cv(dtrain = churn_dmatrix, params = params, nfold=3, num_boost_round=5, metrics=\"mlogloss\", as_pandas=True, seed=1234)\n",
    "\n",
    "# Print cv_results\n",
    "print(cv_results)\n",
    "\n",
    "# Print the accuracy\n",
    "#print(((1-cv_results[\"test-mlogloss-mean\"]).iloc[-1]))\n",
    "print(\"Accuracy:\" ,cv_results['test-mlogloss-mean'].mean()*100)"
   ]
  },
  {
   "cell_type": "code",
   "execution_count": 104,
   "metadata": {
    "scrolled": true
   },
   "outputs": [
    {
     "name": "stdout",
     "output_type": "stream",
     "text": [
      "{'colsample_bytree': 0.9, 'gamma': 0, 'learning_rate': 0.49, 'max_depth': 3, 'min_child_weight': 6, 'n_estimators': 10, 'silent': 1, 'subsample': 0.9}\n",
      "0.7927608232789212\n",
      "             precision    recall  f1-score   support\n",
      "\n",
      "          0       0.84      0.89      0.86      2077\n",
      "          1       0.63      0.52      0.57       741\n",
      "\n",
      "avg / total       0.78      0.79      0.79      2818\n",
      "\n"
     ]
    }
   ],
   "source": [
    "import warnings\n",
    "warnings.filterwarnings(\"ignore\")\n",
    "\n",
    "params = {'learning_rate': [0.48 ,0.49,0.5] ,\n",
    "              'max_depth': np.arange(0,4) ,\n",
    "              'subsample': [0.9],        \n",
    "              'colsample_bytree': [0.9],\n",
    "              #'num_class': [2],\n",
    "              'silent': [1], \n",
    "              'n_estimators':[10, 50 , 90 , 100], \n",
    "              'gamma':[0,1],         \n",
    "              'min_child_weight':[1,3,4,6]} \n",
    "\n",
    "xg = xgb.XGBClassifier(objective='reg:logistic', seed=1234)\n",
    "\n",
    "cv = GridSearchCV(xg , param_grid = params , cv = 5 , scoring = 'accuracy' )\n",
    "\n",
    "cv.fit(X_train , y_train)\n",
    "\n",
    "y_pred = cv.predict(X_test)\n",
    "\n",
    "print(cv.best_params_)\n",
    "\n",
    "print(cv.score(X_test , y_test))\n",
    "\n",
    "print(classification_report(y_test , y_pred))"
   ]
  },
  {
   "cell_type": "code",
   "execution_count": 101,
   "metadata": {
    "scrolled": true
   },
   "outputs": [
    {
     "name": "stdout",
     "output_type": "stream",
     "text": [
      "{'subsample': 0.9, 'silent': 1, 'n_estimators': 70, 'min_child_weight': 3, 'max_depth': 3, 'learning_rate': 0, 'gamma': 0, 'colsample_bytree': 0.9}\n",
      "0.7370475514549326\n",
      "             precision    recall  f1-score   support\n",
      "\n",
      "          0       0.74      1.00      0.85      2077\n",
      "          1       0.00      0.00      0.00       741\n",
      "\n",
      "avg / total       0.54      0.74      0.63      2818\n",
      "\n"
     ]
    }
   ],
   "source": [
    "warnings.filterwarnings(\"ignore\")\n",
    "\n",
    "params = {'learning_rate': range(0,1) ,\n",
    "              'max_depth': range(0,4) ,\n",
    "              'subsample': [0.9],        \n",
    "              'colsample_bytree': [0.9],\n",
    "              #'num_class': [2],\n",
    "              'silent': [1], \n",
    "              'n_estimators':range(0,100), \n",
    "              'gamma':range(0,1),         \n",
    "              'min_child_weight':range(1,6)} \n",
    "\n",
    "xg = xgb.XGBClassifier(objective='reg:logistic', seed=1234)\n",
    "\n",
    "cv = RandomizedSearchCV(xg , param_distributions = params , cv = 5 , scoring = 'accuracy' , n_iter = 5)\n",
    "\n",
    "cv.fit(X_train , y_train)\n",
    "\n",
    "y_pred = cv.predict(X_test)\n",
    "\n",
    "print(cv.best_params_)\n",
    "\n",
    "print(cv.score(X_test , y_test))\n",
    "\n",
    "print(classification_report(y_test , y_pred))"
   ]
  },
  {
   "cell_type": "raw",
   "metadata": {},
   "source": [
    "We can do randomizedsearchcv with xgboost to see if we can get a better accuracy."
   ]
  }
 ],
 "metadata": {
  "kernelspec": {
   "display_name": "Python 3",
   "language": "python",
   "name": "python3"
  },
  "language_info": {
   "codemirror_mode": {
    "name": "ipython",
    "version": 3
   },
   "file_extension": ".py",
   "mimetype": "text/x-python",
   "name": "python",
   "nbconvert_exporter": "python",
   "pygments_lexer": "ipython3",
   "version": "3.6.5"
  }
 },
 "nbformat": 4,
 "nbformat_minor": 2
}
